{
 "cells": [
  {
   "cell_type": "markdown",
   "metadata": {},
   "source": [
    "# 説明\n",
    "これは、Qiskit Advocate テストのノートブックです。いくつかのテスト問題への回答には、Qiskitのコードを書いて実行する必要があります。すべての問題に回答したら、採点のためテストを提出する必要があります。結果は、応募期間の終了後すぐにメールで通知されます。\n",
    "\n",
    "**このノートブックは Jupyter Notebook を使用する場合のみ正しく実行できます。現時点で、Jupyter lab との互換性はありません。**\n",
    "\n",
    "このノートブックを使用するには、次の手順に従ってください。\n",
    "1. このノートブックに含まれる`qiskit`、`metakernel`、`portalocker`、`matplotlib`の依存関係をインストールするため、以下のセルを実行してください。テスト用に、Qiskitのバージョン`0.19.6`がインストールされていることを確認してください。\n",
    "1. 下にある`Personal Information`セクションに名前を入力してから、セルを実行してください。そして、出力が`完了`であることを確認してください。\n",
    "1. 各セクションの質問を表示するには、`%activity questions/section`のような行を実行します。問題を前後に移動しながら回答を選択できます。\n",
    "1. このテストは全部で**30問**あります。各問題への回答は、選択肢を選ぶとすぐに保存され、問題のセクションを再開しても消去されません。\n",
    "1. 回答は何度でも好きなだけ変更できます。すべての回答が保存されますが、**最後の回答のみが採点されます**。\n",
    "1. 回答を送信するためには、`提出t`セルを実行します。これにより、`answers_yourname.zip`という名前のファイルが生成されます。このファイルを応募フォームに添付してください。\n",
    "\n",
    "テストの基本的な参考資料は [Qiskit Tutorials](https://qiskit.org/documentation/tutorials/circuits/index.html) と [Qiskit Documentation](https://qiskit.org/documentation/) です。さらに、 [Qiskit Textbook](https://qiskit.org/textbook/preface.html)、 [Coding with Qiskit](https://www.youtube.com/playlist?list=PLOFEBzvs-Vvp2xg9-POLJhQwtVktlYGbY)、[Qiskit Live Circuit Sessions](https://www.youtube.com/playlist?list=PLOFEBzvs-VvrRlVz7wqaqmaMZj_ZK2Afe) 、そして [1 Minute Qiskit](https://www.youtube.com/playlist?list=PLOFEBzvs-VvpOCmJ9BonUhf7NYB4d1p0e) といった、よい参考資料もあります。もし何か質問があれば、Qiskit Slack の`qiskit-advocates-help`チャンネルに連絡してください。"
   ]
  },
  {
   "cell_type": "code",
   "execution_count": null,
   "metadata": {
    "scrolled": false
   },
   "outputs": [],
   "source": [
    "# 依存関係のインストール\n",
    "!pip install --upgrade qiskit==0.19.6 \n",
    "!pip install --upgrade metakernel\n",
    "!pip install --upgrade portalocker\n",
    "!pip install --upgrade matplotlib"
   ]
  },
  {
   "cell_type": "code",
   "execution_count": null,
   "metadata": {},
   "outputs": [],
   "source": [
    "from metakernel import register_ipython_magics\n",
    "register_ipython_magics()\n",
    "\n",
    "from IPython.display import clear_output\n",
    "clear_output()\n",
    "\n",
    "import qiskit\n",
    "version_info = qiskit.__qiskit_version__\n",
    "print(\"以下のバージョンでQiskitを実行しています。\")\n",
    "print(version_info)"
   ]
  },
  {
   "cell_type": "markdown",
   "metadata": {},
   "source": [
    "# Personal Information"
   ]
  },
  {
   "cell_type": "code",
   "execution_count": null,
   "metadata": {},
   "outputs": [],
   "source": [
    "your_name = \"あなたの名前\" # あなたの名前をクォート間に入力してください。\n",
    "\n",
    "import os\n",
    "try:\n",
    "    assert(your_name != '')\n",
    "    answer_dir = 'answers/'\n",
    "    if not os.path.isdir(answer_dir):\n",
    "        os.mkdir(answer_dir)\n",
    "    open(answer_dir + 'taker_info.txt', 'w').write('name = {}\\nversion_info = {}'.format(your_name, version_info))\n",
    "    print('完了')\n",
    "except:\n",
    "    print(\"エラーが発生しました。Qiskit Slack の #qiskit-advocates-help にご連絡ください。\")  "
   ]
  },
  {
   "cell_type": "markdown",
   "metadata": {},
   "source": [
    "---\n",
    "# 回答を試すスペース\n",
    "問題の回答を見つけ出すために、このノートブックに新しいセルを追加することができます。"
   ]
  },
  {
   "cell_type": "code",
   "execution_count": null,
   "metadata": {},
   "outputs": [],
   "source": [
    "# 例\n",
    "from qiskit import QuantumCircuit\n",
    "qc = QuantumCircuit(1)\n",
    "qc.h(0)\n",
    "qc.draw('mpl')"
   ]
  },
  {
   "cell_type": "code",
   "execution_count": null,
   "metadata": {},
   "outputs": [],
   "source": [
    "# メニューバーにある \"+\"ボタン をクリックすることで、このような新しいセルを追加することが出来ます。"
   ]
  },
  {
   "cell_type": "markdown",
   "metadata": {},
   "source": [
    "---\n",
    "# Contents <a name=\"toc\"></a>\n",
    "\n",
    "1. [Circuits (5問)](#circuits)\n",
    "1. [Advanced Circuits (5問)](#advanced_circuits)\n",
    "1. [Running on Real Devices (2問)](#real_devices)\n",
    "1. [Pulse (5問)](#pulse)\n",
    "1. [High-Performance Simulators (7問)](#simulators)\n",
    "1. [Quantum System Error Analysis  (3問)](#error_analysis)\n",
    "1. [Optimization (3問)](#optimization)"
   ]
  },
  {
   "cell_type": "markdown",
   "metadata": {},
   "source": [
    "# 回路（Circuits） (5問)<a name=\"circuits\"></a>\n",
    "参考資料: \n",
    "1. [Qiskit Tutorials - Circuits](https://qiskit.org/documentation/tutorials/circuits/index.html)\n",
    "1. [Qiskit Documentation - Terra](https://qiskit.org/documentation/apidoc/terra.html)\n",
    "1. [Coding with Qiskit - Ep.3 Hello World](https://www.youtube.com/watch?v=RrUTwq5jKM4)\n",
    "1. [Coding with Qiskit - Ep.4 Building Blocks of Quantum Circuits](https://www.youtube.com/watch?v=tBnWG_95F9c)"
   ]
  },
  {
   "cell_type": "code",
   "execution_count": null,
   "metadata": {},
   "outputs": [],
   "source": [
    "%activity questions/circuits"
   ]
  },
  {
   "cell_type": "markdown",
   "metadata": {},
   "source": [
    "# 高度な回路（Advanced Circuits） (5問)<a name=\"advanced_circuits\"></a>\n",
    "参考資料: \n",
    "1. [Qiskit Tutorials - Advanced Circuits](https://qiskit.org/documentation/tutorials/circuits_advanced/index.html)\n",
    "1. [Qiskit Documentation - Terra](https://qiskit.org/documentation/apidoc/terra.html)\n",
    "1. [Circuit Sessions - Qiskit Circuit Library](https://www.youtube.com/watch?v=SsXJgAZ6aIg)\n",
    "1. [Circuit Sessions - Transpiling Quantum Circuits](https://www.youtube.com/watch?v=2T3163VjvWQ)"
   ]
  },
  {
   "cell_type": "code",
   "execution_count": null,
   "metadata": {},
   "outputs": [],
   "source": [
    "%activity questions/advanced_circuits"
   ]
  },
  {
   "cell_type": "markdown",
   "metadata": {},
   "source": [
    "# 実機での実行（Running on Real Devices） (2問)<a name=\"real_devices\"></a>\n",
    "参考資料: \n",
    "1. [Qiskit Tutorials - The IBM Account](https://github.com/Qiskit/qiskit-tutorials/blob/master/legacy_tutorials/terra/3_the_ibmq_account.ipynb)\n",
    "1. [Qiskit Documentation - IBM Quantum Provider](https://qiskit.org/documentation/apidoc/ibmq_provider.html)\n",
    "1. [1 Minute Qiskit - How can I retrieve an old job from IBM Quantum?](https://www.youtube.com/watch?v=09-Qsge_qqo&list=PLOFEBzvs-VvpOCmJ9BonUhf7NYB4d1p0e&index=6)"
   ]
  },
  {
   "cell_type": "code",
   "execution_count": null,
   "metadata": {},
   "outputs": [],
   "source": [
    "%activity questions/real_devices"
   ]
  },
  {
   "cell_type": "markdown",
   "metadata": {},
   "source": [
    "# パルス（Pulse） (5問)<a name=\"pulse\"></a>\n",
    "参考資料:\n",
    "1. [Qiskit Tutorials - Pulse](https://qiskit.org/documentation/tutorials/pulse/index.html)\n",
    "1. [Qiskit Textbook - Ch.6.1 Calibrating Qubits with Qiskit Pulse](https://qiskit.org/textbook/ch-quantum-hardware/calibrating-qubits-openpulse.html)\n",
    "1. [Qiskit Documentation - Pulse](https://qiskit.org/documentation/apidoc/pulse.html)\n",
    "1. [Qiskit Live - Quantum Coding with Lauren Capelluto](https://www.youtube.com/watch?v=ZvipHRY-URs)"
   ]
  },
  {
   "cell_type": "code",
   "execution_count": null,
   "metadata": {},
   "outputs": [],
   "source": [
    "%activity questions/pulse"
   ]
  },
  {
   "cell_type": "markdown",
   "metadata": {},
   "source": [
    "# ハイパフォーマンス・シミュレータ（High-Performance Simulators） (7問)<a name=\"simulators\"></a>\n",
    "参考資料:\n",
    "1. [Qiskit Tutorials - High-Performance Simulators](https://qiskit.org/documentation/tutorials/simulators/index.html)\n",
    "1. [Qiskit Documentation - Aer](https://qiskit.org/documentation/apidoc/aer.html)\n",
    "1. [Circuit Sessions - How to simulate a circuit](https://www.youtube.com/watch?v=VvP41TwY34o)"
   ]
  },
  {
   "cell_type": "code",
   "execution_count": null,
   "metadata": {},
   "outputs": [],
   "source": [
    "%activity questions/simulators"
   ]
  },
  {
   "cell_type": "markdown",
   "metadata": {},
   "source": [
    "# 量子システムエラー分析（Quantum System Error Analysis） (3問)<a name=\"error_analysis\"></a>\n",
    "参考資料:\n",
    "1. [Qiskit Tutorials - Quantum System Error Analysis](https://qiskit.org/documentation/tutorials/noise/index.html)\n",
    "1. [Qiskit Documentation - Ignis](https://qiskit.org/documentation/apidoc/ignis.html)\n",
    "1. [Coding with Qiskit - Ep.8 Mitigating Noise on Real Quantum Computers](https://www.youtube.com/watch?v=yuDxHJOKsVA)"
   ]
  },
  {
   "cell_type": "code",
   "execution_count": null,
   "metadata": {},
   "outputs": [],
   "source": [
    "%activity questions/error_analysis"
   ]
  },
  {
   "cell_type": "markdown",
   "metadata": {},
   "source": [
    "# 最適化（Optimization） (3問)<a name=\"optimization\"></a>\n",
    "参考資料:\n",
    "1. [Qiskit Tutorials - Optimization](https://qiskit.org/documentation/tutorials/optimization/index.html)\n",
    "1. [Qiskit Documentation - Optimization](https://qiskit.org/documentation/apidoc/qiskit_optimization.html)\n",
    "1. [Qiskit Medium - A Walkthrough of Qiskit’s New Optimization Module](https://medium.com/qiskit/towards-quantum-advantage-for-optimization-with-qiskit-9a564339ef26)"
   ]
  },
  {
   "cell_type": "code",
   "execution_count": null,
   "metadata": {},
   "outputs": [],
   "source": [
    "%activity questions/optimization"
   ]
  },
  {
   "cell_type": "markdown",
   "metadata": {},
   "source": [
    "# 提出"
   ]
  },
  {
   "cell_type": "code",
   "execution_count": null,
   "metadata": {},
   "outputs": [],
   "source": [
    "from shutil import make_archive\n",
    "try:\n",
    "    assert(os.path.exists(answer_dir + 'circuits.results'))\n",
    "    assert(os.path.exists(answer_dir + 'advanced_circuits.results'))\n",
    "    assert(os.path.exists(answer_dir + 'real_devices.results'))\n",
    "    assert(os.path.exists(answer_dir + 'pulse.results'))\n",
    "    assert(os.path.exists(answer_dir + 'simulators.results'))\n",
    "    assert(os.path.exists(answer_dir + 'error_analysis.results'))\n",
    "    assert(os.path.exists(answer_dir + 'optimization.results'))\n",
    "    assert(os.path.exists(answer_dir + 'taker_info.txt'))\n",
    "    zipfilename = 'answers_{}'.format(your_name)\n",
    "    make_archive(zipfilename, 'zip', answer_dir)\n",
    "    print('完了です。採点のため、{}.zipファイルを応募フォームに添付してください。'.format(zipfilename))\n",
    "except:\n",
    "    print(\"すべてのセクションを完了していません。もしエラーだと思われる場合は、Qiskit Slack の #qiskit-advocates-help チャンネルへご連絡ください。\")"
   ]
  },
  {
   "cell_type": "code",
   "execution_count": null,
   "metadata": {},
   "outputs": [],
   "source": []
  }
 ],
 "metadata": {
  "kernelspec": {
   "display_name": "Python 3",
   "language": "python",
   "name": "python3"
  },
  "language_info": {
   "codemirror_mode": {
    "name": "ipython",
    "version": 3
   },
   "file_extension": ".py",
   "mimetype": "text/x-python",
   "name": "python",
   "nbconvert_exporter": "python",
   "pygments_lexer": "ipython3",
   "version": "3.6.7"
  }
 },
 "nbformat": 4,
 "nbformat_minor": 4
}
